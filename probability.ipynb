{
 "cells": [
  {
   "cell_type": "code",
   "execution_count": 2,
   "id": "sealed-fleece",
   "metadata": {},
   "outputs": [],
   "source": [
    "import numpy as np\n",
    "import pandas as pd\n",
    "import matplotlib.pyplot as plt\n",
    "from scipy import stats"
   ]
  },
  {
   "cell_type": "markdown",
   "id": "realistic-square",
   "metadata": {},
   "source": [
    "## Walk it out w/ Poisson distribution \n",
    "\n",
    "- On any given day, let's say you walk an average of 2 miles per day. \n",
    "- Create a Poisson distribution. \n",
    "- Use `.pmf` to answer the following questions in different notebook cells.\n",
    "    - What are the chances of walking exactly 0 miles? \n",
    "    - What is the probability of walking exactly 1 mile? \n",
    "    - What are the chances of walking exactly 2 miles?\n",
    "- In a separate cell, sum up all of those 3 different probabilities together.\n",
    "- Now use `.cdf` to answer the following question: What's the chance we walk 2 miles or less?\n",
    "- Compare the number from your `.cdf` with the sum of those three separate `.pmf` results? What do you see?\n",
    "- Now we'll ask the chances of walking more than 2 miles. Use `.sf`\n",
    "- Consider the relationship between the 2 numbers from the `.sf` and the `.pmf` result? What do you see?"
   ]
  },
  {
   "cell_type": "markdown",
   "id": "amazing-think",
   "metadata": {},
   "source": [
    "## Flipping Out with Binomials part 0\n",
    "\n",
    "Let's model flipping a fair coin w/ a binomial. The first step is to create the `stats.binom` distribution with a trial size of 1, because we're only flipping _one_ coin at a time in this setup. Our probability of \"success\" is 0.5 since we have a fair coin. For our purposes, we'll define \"heads\" as the success case.\n",
    "\n",
    "- Using `.pmf`, determine the chance of flipping exactly 0 heads. What's the result. Why is that?\n",
    "- Using `.pmf`, determine the chance of flipping exactly 1 head. What's the result. Why is that?\n",
    "- Using that same distribution, determine the chance of flipping exactly 2 heads. Why might this be the case?"
   ]
  },
  {
   "cell_type": "markdown",
   "id": "critical-lease",
   "metadata": {},
   "source": [
    "## Flipping Out with Binomials part 1\n",
    "\n",
    "Let's model flipping 2 fair coins w/ a binomial. The first step is to create the `stats.binom` distribution with a trial size of 2, because this new distribution has a trial size of 2. Our probability of a \"success\" for _each individual_ coin is 0.5 since we have a fair coin. For our purposes, we'll define \"heads\" as the success case.\n",
    "\n",
    "With this new, 2 coin distribution, work through the following:\n",
    "- Use `.pmf` to determine the probability of flipping exactly 0 heads.\n",
    "- Use `.pmf` to determine the probability of flipping exactly 1 head.\n",
    "- Use `.pmf` to determine the probability of flipping exactly 2 heads.\n",
    "- Now use `.pmf` to determine the probability of probability of flipping exactly 3 heads. Why is this number what it is?\n",
    "\n",
    "- Now use `.cdf` to determine the probability of flipping 1 head or less\n",
    "- What's the relationship between that number and the sum of the probability of exaclty 0 plus the probability of exaclty 1?\n",
    "- Now use the `.sf` to determine the probability of flipping more than 0 heads? What is the relationship of that number to the probability of flipping exactly 0 heads?"
   ]
  },
  {
   "cell_type": "markdown",
   "id": "reported-journalist",
   "metadata": {},
   "source": [
    "## Under Normal Pressure\n",
    "\n",
    "Average systolic blood pressure 120 and the standard deviation is 13. Create your normal distribution with this information.\n",
    "\n",
    "- What is the chance that someone's systolic blood pressure is _exactly_ 120?\n",
    "- What is the likelihood that someone's systolic blood pressure is 130 or lower?\n",
    "- What is the chance that someone's systolic blood pressure is above 130?\n",
    "- What is the relationship between these two probabilities?"
   ]
  },
  {
   "cell_type": "code",
   "execution_count": null,
   "id": "configured-desperate",
   "metadata": {},
   "outputs": [],
   "source": []
  }
 ],
 "metadata": {
  "kernelspec": {
   "display_name": "Python 3",
   "language": "python",
   "name": "python3"
  },
  "language_info": {
   "codemirror_mode": {
    "name": "ipython",
    "version": 3
   },
   "file_extension": ".py",
   "mimetype": "text/x-python",
   "name": "python",
   "nbconvert_exporter": "python",
   "pygments_lexer": "ipython3",
   "version": "3.7.3"
  }
 },
 "nbformat": 4,
 "nbformat_minor": 5
}
